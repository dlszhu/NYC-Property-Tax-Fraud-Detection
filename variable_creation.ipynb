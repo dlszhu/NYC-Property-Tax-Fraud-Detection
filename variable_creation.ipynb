{
 "cells": [
  {
   "cell_type": "code",
   "execution_count": 2,
   "metadata": {},
   "outputs": [
    {
     "name": "stdout",
     "output_type": "stream",
     "text": [
      "LOAD DURATION:  0:00:01.134384\n"
     ]
    }
   ],
   "source": [
    "from datetime import datetime\n",
    "start_time = datetime.now()\n",
    "\n",
    "# Libraries to install\n",
    "# %pip install pandas-profiling\n",
    "\n",
    "import pandas as pd\n",
    "import numpy as np\n",
    "import matplotlib.pyplot as plt\n",
    "import seaborn as sns\n",
    "%matplotlib inline\n",
    "\n",
    "print('LOAD DURATION: ', datetime.now() - start_time) # load time about 30 seconds"
   ]
  },
  {
   "cell_type": "code",
   "execution_count": 12,
   "metadata": {},
   "outputs": [
    {
     "name": "stdout",
     "output_type": "stream",
     "text": [
      "CPU times: user 3.46 s, sys: 624 ms, total: 4.09 s\n",
      "Wall time: 4.46 s\n"
     ]
    }
   ],
   "source": [
    "%%time\n",
    "data = pd.read_csv('NY property data.csv')"
   ]
  },
  {
   "cell_type": "code",
   "execution_count": 13,
   "metadata": {},
   "outputs": [
    {
     "data": {
      "text/plain": [
       "(1070994, 32)"
      ]
     },
     "execution_count": 13,
     "metadata": {},
     "output_type": "execute_result"
    }
   ],
   "source": [
    "data.shape"
   ]
  },
  {
   "cell_type": "markdown",
   "metadata": {},
   "source": [
    "**Project 1 Variables**\n",
    "\n",
    "We look at FULLVAL (full market value), AVLAND (Actual land value), AVTOT (Actual total value) from the dataset.\n",
    "\n",
    "To standardize we create 3 sizes to calculate the ratio variables, and use them to create 3 normalized ratios for each:\n",
    "* land/lot area = LTFRONT* LTDEPTH\n",
    "* building area = BLDFRONT* BLDDEPTH\n",
    "* building volume = (BLDFRONT* BLDDEPTH)*STORIES\n",
    "\n",
    "Now we have 9 ratios for each record.\n",
    "\n",
    "Then group by ZIP, ZIP3, TAXCLASS, BORO, in each group, calculate average ratio and divide the 9 ratios. Then we have  9 ratios for each group, in total 36 additional variables for each record, representing the particular property's primary variables $R_1$ to $R_9$ compared to their geographical(ZIP, BORO) or TAXCLASS neighbors"
   ]
  },
  {
   "cell_type": "markdown",
   "metadata": {},
   "source": [
    "**Step 1**\n",
    "\n",
    "Remove the exclusion records\n",
    "* Remove government, public-owned property that we are not interested in. We are looking for private owner committing tax fraud.\n"
   ]
  },
  {
   "cell_type": "code",
   "execution_count": 14,
   "metadata": {},
   "outputs": [
    {
     "data": {
      "text/plain": [
       "PARKCHESTER PRESERVAT    6021\n",
       "PARKS AND RECREATION     4255\n",
       "DCAS                     2169\n",
       "HOUSING PRESERVATION     1904\n",
       "CITY OF NEW YORK         1450\n",
       "DEPT OF ENVIRONMENTAL    1166\n",
       "BOARD OF EDUCATION       1015\n",
       "NEW YORK CITY HOUSING    1014\n",
       "CNY/NYCTA                 975\n",
       "NYC HOUSING PARTNERSH     747\n",
       "YORKVILLE TOWERS ASSO     558\n",
       "DEPARTMENT OF BUSINES     527\n",
       "DEPT OF TRANSPORTATIO     503\n",
       "MTA/LIRR                  467\n",
       "PARCKHESTER PRESERVAT     439\n",
       "MH RESIDENTIAL 1, LLC     411\n",
       "434 M LLC                 393\n",
       "LINCOLN PLAZA ASSOCIA     366\n",
       "DEUTSCHE BANK NATIONA     336\n",
       "561 11TH AVENUE TMG L     324\n",
       "Name: OWNER, dtype: int64"
      ]
     },
     "execution_count": 14,
     "metadata": {},
     "output_type": "execute_result"
    }
   ],
   "source": [
    "#first look at the top owners\n",
    "data['OWNER'].value_counts().head(20)"
   ]
  },
  {
   "cell_type": "code",
   "execution_count": 15,
   "metadata": {},
   "outputs": [
    {
     "data": {
      "text/plain": [
       "['PARKCHESTER PRESERVAT',\n",
       " 'PARKS AND RECREATION',\n",
       " 'DCAS',\n",
       " 'HOUSING PRESERVATION',\n",
       " 'CITY OF NEW YORK',\n",
       " 'DEPT OF ENVIRONMENTAL',\n",
       " 'BOARD OF EDUCATION',\n",
       " 'NEW YORK CITY HOUSING',\n",
       " 'CNY/NYCTA',\n",
       " 'NYC HOUSING PARTNERSH',\n",
       " 'YORKVILLE TOWERS ASSO',\n",
       " 'DEPARTMENT OF BUSINES',\n",
       " 'DEPT OF TRANSPORTATIO',\n",
       " 'MTA/LIRR',\n",
       " 'PARCKHESTER PRESERVAT',\n",
       " 'MH RESIDENTIAL 1, LLC',\n",
       " '434 M LLC',\n",
       " 'LINCOLN PLAZA ASSOCIA',\n",
       " 'DEUTSCHE BANK NATIONA',\n",
       " '561 11TH AVENUE TMG L']"
      ]
     },
     "execution_count": 15,
     "metadata": {},
     "output_type": "execute_result"
    }
   ],
   "source": [
    "#create a remove list\n",
    "remove_list = data['OWNER'].value_counts().head(20).index.tolist()\n",
    "remove_list"
   ]
  },
  {
   "cell_type": "code",
   "execution_count": 16,
   "metadata": {},
   "outputs": [
    {
     "data": {
      "text/plain": [
       "['PARKCHESTER PRESERVAT',\n",
       " 'PARKS AND RECREATION',\n",
       " 'DCAS',\n",
       " 'HOUSING PRESERVATION',\n",
       " 'CITY OF NEW YORK',\n",
       " 'DEPT OF ENVIRONMENTAL',\n",
       " 'BOARD OF EDUCATION',\n",
       " 'NEW YORK CITY HOUSING',\n",
       " 'CNY/NYCTA',\n",
       " 'NYC HOUSING PARTNERSH',\n",
       " 'DEPARTMENT OF BUSINES',\n",
       " 'DEPT OF TRANSPORTATIO',\n",
       " 'MTA/LIRR',\n",
       " 'PARCKHESTER PRESERVAT',\n",
       " 'MH RESIDENTIAL 1, LLC',\n",
       " 'LINCOLN PLAZA ASSOCIA',\n",
       " 'UNITED STATES OF AMER',\n",
       " 'U S GOVERNMENT OWNRD',\n",
       " 'THE CITY OF NEW YORK',\n",
       " 'NYS URBAN DEVELOPMENT',\n",
       " 'NYS DEPT OF ENVIRONME',\n",
       " 'CULTURAL AFFAIRS',\n",
       " 'DEPT OF GENERAL SERVI',\n",
       " 'DEPT RE-CITY OF NY']"
      ]
     },
     "execution_count": 16,
     "metadata": {},
     "output_type": "execute_result"
    }
   ],
   "source": [
    "#some of them here are not government and we can also add some other to the list for our convenience\n",
    "remove_list.remove('YORKVILLE TOWERS ASSO')\n",
    "remove_list.remove('434 M LLC')\n",
    "remove_list.remove('DEUTSCHE BANK NATIONA')\n",
    "remove_list.remove('561 11TH AVENUE TMG L')\n",
    "remove_list.append('UNITED STATES OF AMER')\n",
    "remove_list.append('U S GOVERNMENT OWNRD')\n",
    "remove_list.append('THE CITY OF NEW YORK')\n",
    "remove_list.append('NYS URBAN DEVELOPMENT')\n",
    "remove_list.append('NYS DEPT OF ENVIRONME')\n",
    "remove_list.append('CULTURAL AFFAIRS')\n",
    "remove_list.append('DEPT OF GENERAL SERVI')\n",
    "remove_list.append('DEPT RE-CITY OF NY')\n",
    "\n",
    "remove_list"
   ]
  },
  {
   "cell_type": "code",
   "execution_count": 18,
   "metadata": {},
   "outputs": [
    {
     "data": {
      "text/plain": [
       "(1046826, 32)"
      ]
     },
     "execution_count": 18,
     "metadata": {},
     "output_type": "execute_result"
    }
   ],
   "source": [
    "property_data = data[-data['OWNER'].isin(remove_list)].reset_index(drop=True)\n",
    "property_data.shape"
   ]
  },
  {
   "cell_type": "code",
   "execution_count": 19,
   "metadata": {},
   "outputs": [
    {
     "data": {
      "text/plain": [
       "24168"
      ]
     },
     "execution_count": 19,
     "metadata": {},
     "output_type": "execute_result"
    }
   ],
   "source": [
    "#how much records we removed\n",
    "len(data)-len(property_data)"
   ]
  },
  {
   "cell_type": "markdown",
   "metadata": {},
   "source": [
    "**Step 2**\n",
    "\n",
    "Clean the data fields we are interested in and fill the missing value\n",
    "* Remove null or meaningless value in fields of ZIP, STORIES, FULLVAL, AVLAND, AVTOT, LTFRONT, LTDEPTH, BLDFRONT, BLDDEPTH.\n",
    "* We try to fill in missing fields with most typical value for the field in that record.\n",
    "* Look for another related field, group by the field and calculate the average or mode of the missing field."
   ]
  },
  {
   "cell_type": "code",
   "execution_count": 30,
   "metadata": {},
   "outputs": [
    {
     "data": {
      "text/plain": [
       "array([    416,    2188,    2189, ..., 1046254, 1046442, 1046443])"
      ]
     },
     "execution_count": 30,
     "metadata": {},
     "output_type": "execute_result"
    }
   ],
   "source": [
    "#filling in missing zip\n",
    "\n",
    "#how many zips missing? replace NnaN with 0 and count\n",
    "missing_zips = np.where(pd.isnull(property_data['ZIP']))[0]\n",
    "#we get the index list\n",
    "missing_zips"
   ]
  },
  {
   "cell_type": "code",
   "execution_count": 31,
   "metadata": {},
   "outputs": [
    {
     "data": {
      "text/plain": [
       "10245"
      ]
     },
     "execution_count": 31,
     "metadata": {},
     "output_type": "execute_result"
    }
   ],
   "source": [
    "len(missing_zips)"
   ]
  },
  {
   "cell_type": "code",
   "execution_count": 32,
   "metadata": {},
   "outputs": [],
   "source": [
    "#assume the data is sorted by zip, if a zip is missing and the before and after zip are same\n",
    "#fill in the zip with that value\n",
    "#we use loc to access the data with the index we have and locate it to specific column\n",
    "for i in range(len(missing_zips)):\n",
    "    if(property_data.loc[missing_zips[i]+1,'ZIP']==property_data.loc[missing_zips[i]-1,'ZIP']):\n",
    "        property_data.loc[missing_zips[i],'ZIP']=property_data.loc[missing_zips[i]-1,'ZIP']"
   ]
  },
  {
   "cell_type": "code",
   "execution_count": 33,
   "metadata": {},
   "outputs": [
    {
     "data": {
      "text/plain": [
       "10245"
      ]
     },
     "execution_count": 33,
     "metadata": {},
     "output_type": "execute_result"
    }
   ],
   "source": [
    "#how many NA still left to fill in\n",
    "missing_zips= np.where(pd.isnull(property_data['ZIP']))[0]\n",
    "len(missing_zips)"
   ]
  },
  {
   "cell_type": "code",
   "execution_count": 34,
   "metadata": {},
   "outputs": [],
   "source": [
    "#to fill the remaining zips we fill it with previous's record zip \n",
    "for i in range(len(missing_zips)):\n",
    "    property_data.loc[missing_zips[i],'ZIP']=property_data.loc[missing_zips[i]-1,'ZIP']"
   ]
  },
  {
   "cell_type": "code",
   "execution_count": 35,
   "metadata": {},
   "outputs": [
    {
     "data": {
      "text/plain": [
       "0"
      ]
     },
     "execution_count": 35,
     "metadata": {},
     "output_type": "execute_result"
    }
   ],
   "source": [
    "missing_zips= np.where(pd.isnull(property_data['ZIP']))[0]\n",
    "len(missing_zips)"
   ]
  },
  {
   "cell_type": "code",
   "execution_count": 37,
   "metadata": {},
   "outputs": [
    {
     "data": {
      "text/plain": [
       "43968"
      ]
     },
     "execution_count": 37,
     "metadata": {},
     "output_type": "execute_result"
    }
   ],
   "source": [
    "#pull records missing STORIES \n",
    "temp = property_data[property_data['STORIES'].isnull()]\n",
    "len(temp)"
   ]
  },
  {
   "cell_type": "code",
   "execution_count": 40,
   "metadata": {},
   "outputs": [
    {
     "data": {
      "text/plain": [
       "2.0      415092\n",
       "3.0      130127\n",
       "1.0       96706\n",
       "2.5       82292\n",
       "4.0       38342\n",
       "          ...  \n",
       "82.0          1\n",
       "119.0         1\n",
       "76.0          1\n",
       "61.0          1\n",
       "114.0         1\n",
       "Name: STORIES, Length: 111, dtype: int64"
      ]
     },
     "execution_count": 40,
     "metadata": {},
     "output_type": "execute_result"
    }
   ],
   "source": [
    "#some building have 1.5 stories\n",
    "data['STORIES'].value_counts()"
   ]
  },
  {
   "cell_type": "code",
   "execution_count": 39,
   "metadata": {},
   "outputs": [
    {
     "data": {
      "text/plain": [
       "1B    19055\n",
       "4     17979\n",
       "2      3434\n",
       "3      2416\n",
       "1       877\n",
       "2C      138\n",
       "2B       34\n",
       "2A       30\n",
       "1A        5\n",
       "Name: TAXCLASS, dtype: int64"
      ]
     },
     "execution_count": 39,
     "metadata": {},
     "output_type": "execute_result"
    }
   ],
   "source": [
    "temp['TAXCLASS'].value_counts()"
   ]
  },
  {
   "cell_type": "code",
   "execution_count": 46,
   "metadata": {},
   "outputs": [
    {
     "data": {
      "text/plain": [
       "TAXCLASS\n",
       "1      2.111633\n",
       "1A     1.656867\n",
       "1B     4.000000\n",
       "1C     3.052748\n",
       "1D     1.068966\n",
       "2     16.310549\n",
       "2A     2.844032\n",
       "2B     4.001635\n",
       "2C     4.744977\n",
       "3      1.000000\n",
       "4      5.517257\n",
       "Name: STORIES, dtype: float64"
      ]
     },
     "execution_count": 46,
     "metadata": {},
     "output_type": "execute_result"
    }
   ],
   "source": [
    "#group records without stories by taxclass to find the common stories of that class\n",
    "mean_stories = property_data.groupby('TAXCLASS')['STORIES'].mean()\n",
    "mean_stories"
   ]
  },
  {
   "cell_type": "code",
   "execution_count": 42,
   "metadata": {},
   "outputs": [
    {
     "data": {
      "text/plain": [
       "0"
      ]
     },
     "execution_count": 42,
     "metadata": {},
     "output_type": "execute_result"
    }
   ],
   "source": [
    "# no records have 0 for this field\n",
    "len(property_data[property_data['STORIES']==0])"
   ]
  },
  {
   "cell_type": "code",
   "execution_count": 47,
   "metadata": {},
   "outputs": [],
   "source": [
    "property_data['STORIES']=property_data['STORIES'].fillna(value=0)\n",
    "for index in mean_stories.index:\n",
    "    property_data.loc[(property_data['STORIES']==0)&(property_data['TAXCLASS']==index),'STORIES']=mean_stories[index]"
   ]
  },
  {
   "cell_type": "code",
   "execution_count": 49,
   "metadata": {},
   "outputs": [],
   "source": [
    "#same for FULLVAL, AVLAND, AVTOT, we fill the average by TAXCLASS\n",
    "#calculate means for AVTOT, FULLVAL, AVLAND by TAXCLASS and avoid record with 0\n",
    "\n",
    "property_data['FULLVAL'].replace('NaN',0)\n",
    "temp = property_data[property_data['FULLVAL']!=0]\n",
    "mean_fullval = temp.groupby('TAXCLASS')['FULLVAL'].mean()\n",
    "\n",
    "property_data['AVLAND'].replace('NaN',0)\n",
    "temp = property_data[property_data['AVLAND']!=0]\n",
    "mean_avland = temp.groupby('TAXCLASS')['AVLAND'].mean()\n",
    "\n",
    "property_data['AVTOT'].replace('NaN',0)\n",
    "temp = property_data[property_data['AVTOT']!=0]\n",
    "mean_avtot = temp.groupby('TAXCLASS')['AVTOT'].mean()"
   ]
  },
  {
   "cell_type": "code",
   "execution_count": 50,
   "metadata": {},
   "outputs": [],
   "source": [
    "for index in mean_fullval.index:\n",
    "    property_data.loc[(property_data['FULLVAL']==0)&(property_data['TAXCLASS']==index),'FULLVAL']=mean_fullval[index]\n",
    "    property_data.loc[(property_data['AVLAND']==0)&(property_data['TAXCLASS']==index),'AVLAND']=mean_avland[index]\n",
    "    property_data.loc[(property_data['AVTOT']==0)&(property_data['TAXCLASS']==index),'AVTOT']=mean_avtot[index]"
   ]
  },
  {
   "cell_type": "code",
   "execution_count": 54,
   "metadata": {},
   "outputs": [],
   "source": [
    "#a different story for LTFRONT, LTDEPTH, BLDFRONT, BLDDEPTH\n",
    "#notice from the DQR, many records are 0 and 1. Since a lot or building cannot be actually 1 foot long in the size\n",
    "# Because these 4 fields do not have NAs, we just need to replace 0s and the 1s. \n",
    "# We think zero and 1 are both invalid values for these fields, so replace them with NA.\n",
    "# Calculate groupwise average. Replace 0 and 1's by NAs so they are not counted in calculating mean.\n",
    "\n",
    "property_data.loc[property_data['LTFRONT']==0,'LTFRONT']=np.nan\n",
    "property_data.loc[property_data['LTDEPTH']==0,'LTDEPTH']=np.nan\n",
    "property_data.loc[property_data['BLDFRONT']==0,'BLDFRONT']=np.nan\n",
    "property_data.loc[property_data['BLDDEPTH']==0,'BLDDEPTH']=np.nan\n",
    "property_data.loc[property_data['LTFRONT']==1,'LTFRONT']=np.nan\n",
    "property_data.loc[property_data['LTDEPTH']==1,'LTDEPTH']=np.nan\n",
    "property_data.loc[property_data['BLDFRONT']==1,'BLDFRONT']=np.nan\n",
    "property_data.loc[property_data['BLDDEPTH']==1,'BLDDEPTH']=np.nan"
   ]
  },
  {
   "cell_type": "code",
   "execution_count": 55,
   "metadata": {},
   "outputs": [],
   "source": [
    "# Calculate mean now (mean function ignores NAs but not 0s hence we converted 0 to NA)\n",
    "mean_LTFRONT=property_data.groupby(property_data['TAXCLASS'])['LTFRONT'].mean()\n",
    "mean_LTDEPTH=property_data.groupby(property_data['TAXCLASS'])['LTDEPTH'].mean()\n",
    "mean_BLDFRONT=property_data.groupby(property_data['TAXCLASS'])['BLDFRONT'].mean()\n",
    "mean_BLDDEPTH=property_data.groupby(property_data['TAXCLASS'])['BLDDEPTH'].mean()\n"
   ]
  },
  {
   "cell_type": "code",
   "execution_count": 56,
   "metadata": {},
   "outputs": [],
   "source": [
    "# Now impute values with the average for that record's TAXCLASS\n",
    "for index in mean_LTFRONT.index:\n",
    "    property_data.loc[(property_data['LTFRONT'].isnull())&(property_data['TAXCLASS']==index),'LTFRONT']=mean_LTFRONT[index]    \n",
    "    property_data.loc[(property_data['LTDEPTH'].isnull())&(property_data['TAXCLASS']==index),'LTDEPTH']=mean_LTDEPTH[index]\n",
    "    property_data.loc[(property_data['BLDFRONT'].isnull())&(property_data['TAXCLASS']==index),'BLDFRONT']=mean_BLDFRONT[index]\n",
    "    property_data.loc[(property_data['BLDDEPTH'].isnull())&(property_data['TAXCLASS']==index),'BLDDEPTH']=mean_BLDDEPTH[index]\n"
   ]
  },
  {
   "cell_type": "markdown",
   "metadata": {},
   "source": [
    "**Step 3**\n",
    "\n",
    "Calculate the ratio with the fields we cleaned above"
   ]
  },
  {
   "cell_type": "code",
   "execution_count": 58,
   "metadata": {},
   "outputs": [
    {
     "data": {
      "text/plain": [
       "(1046826, 32)"
      ]
     },
     "execution_count": 58,
     "metadata": {},
     "output_type": "execute_result"
    }
   ],
   "source": [
    "#copy the cleaned data\n",
    "data=property_data.copy()\n",
    "data.shape"
   ]
  },
  {
   "cell_type": "code",
   "execution_count": 59,
   "metadata": {},
   "outputs": [],
   "source": [
    "#convert ZIP to a string rather than a float\n",
    "data['ZIP']=data['ZIP'].astype(str)\n",
    "\n",
    "#we call the first 3 digits of zip ZIP3\n",
    "data['zip3']=data['ZIP'].str[:3]"
   ]
  },
  {
   "cell_type": "code",
   "execution_count": 61,
   "metadata": {},
   "outputs": [],
   "source": [
    "#calculate the size for normalizing\n",
    "data['ltsize']=data['LTFRONT']*data['LTDEPTH']\n",
    "data['bldsize']=data['BLDFRONT']*data['BLDDEPTH']\n",
    "data['bldvol']=data['bldsize']*data['STORIES']"
   ]
  },
  {
   "cell_type": "code",
   "execution_count": 62,
   "metadata": {},
   "outputs": [],
   "source": [
    "data['r1'] = data['FULLVAL']/data['ltsize']\n",
    "data['r2'] = data['FULLVAL']/data['bldsize']\n",
    "data['r3'] = data['FULLVAL']/data['bldvol']\n",
    "data['r4'] = data['AVLAND']/data['ltsize']\n",
    "data['r5'] = data['AVLAND']/data['bldsize']\n",
    "data['r6'] = data['AVLAND']/data['bldvol']\n",
    "data['r7'] = data['AVTOT']/data['ltsize']\n",
    "data['r8'] = data['AVTOT']/data['bldsize']\n",
    "data['r9'] = data['AVTOT']/data['bldvol']"
   ]
  },
  {
   "cell_type": "code",
   "execution_count": 63,
   "metadata": {},
   "outputs": [],
   "source": [
    "ninevars = ['r1','r2','r3','r4','r5','r6','r7','r8','r9']\n",
    "\n",
    "zip5_mean = data.groupby('ZIP')[ninevars].mean() #find the local mean of each ratio in full zipcode \n",
    "zip3_mean = data.groupby('zip3')[ninevars].mean() #find local mean of each ratio in 3-digit bigger zipcode range\n",
    "taxclass_mean = data.groupby('TAXCLASS')[ninevars].mean()\n",
    "borough_mean = data.groupby('BORO')[ninevars].mean()\n",
    "\n",
    "data = data.join(zip5_mean, on='ZIP',rsuffix='_zip5')\n",
    "data = data.join(zip3_mean, on='zip3',rsuffix='_zip3')\n",
    "data = data.join(taxclass_mean, on='TAXCLASS',rsuffix='_taxclass')\n",
    "data = data.join(borough_mean, on='BORO',rsuffix='_boro')\n",
    "\n",
    "rsuffix = ['_zip5','_zip3','_taxclass','_boro']\n",
    "for var in ninevars:\n",
    "    for r in rsuffix:\n",
    "        data[str(var)+r] = data[var]/data[str(var)+r] "
   ]
  },
  {
   "cell_type": "code",
   "execution_count": 64,
   "metadata": {},
   "outputs": [],
   "source": [
    "#drop all the columns we do not need for the analysis, aka we only keeps the last 45 ratio cols created\n",
    "result_data = data.iloc[:, -45:]"
   ]
  },
  {
   "cell_type": "code",
   "execution_count": 65,
   "metadata": {},
   "outputs": [],
   "source": [
    "stats = result_data.describe().transpose()\n",
    "stats.to_excel('stats_on_vars.xlsx')"
   ]
  }
 ],
 "metadata": {
  "interpreter": {
   "hash": "40d3a090f54c6569ab1632332b64b2c03c39dcf918b08424e98f38b5ae0af88f"
  },
  "kernelspec": {
   "display_name": "Python 3.8.8 64-bit ('base': conda)",
   "language": "python",
   "name": "python3"
  },
  "language_info": {
   "codemirror_mode": {
    "name": "ipython",
    "version": 3
   },
   "file_extension": ".py",
   "mimetype": "text/x-python",
   "name": "python",
   "nbconvert_exporter": "python",
   "pygments_lexer": "ipython3",
   "version": "3.8.8"
  },
  "orig_nbformat": 4
 },
 "nbformat": 4,
 "nbformat_minor": 2
}
